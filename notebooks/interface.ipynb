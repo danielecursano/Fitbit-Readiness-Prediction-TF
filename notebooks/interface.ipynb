{
 "cells": [
  {
   "cell_type": "code",
   "execution_count": null,
   "id": "34fa1a83-2207-41fe-b166-33ce3f21bd9b",
   "metadata": {},
   "outputs": [],
   "source": [
    "import sys\n",
    "sys.path.append('../src')"
   ]
  },
  {
   "cell_type": "code",
   "execution_count": null,
   "id": "706457fc-6341-46f9-ab09-1f3da33c4841",
   "metadata": {},
   "outputs": [],
   "source": [
    "from vectorization import Vectorizer\n",
    "from model import Model\n",
    "import numpy as np"
   ]
  },
  {
   "cell_type": "code",
   "execution_count": null,
   "id": "389064e8-9973-45c1-afbc-235cdf335ae9",
   "metadata": {},
   "outputs": [],
   "source": [
    "DATA_PATH = \"PATH_TO_FITBIT_DOWNLOADED_FOLDER\"\n",
    "MODEL_PATH = \"PATH_TO_SAVED_MODEL\""
   ]
  },
  {
   "cell_type": "markdown",
   "id": "96a8c109-f426-4ece-b202-0221cb14cc2d",
   "metadata": {},
   "source": [
    "Extract vectors from fitbit data folder"
   ]
  },
  {
   "cell_type": "code",
   "execution_count": null,
   "id": "ca49e661-c67b-4bc0-80c4-9d2e1e916ec7",
   "metadata": {},
   "outputs": [],
   "source": [
    "gen = Vectorizer(DATA_PATH)\n",
    "data = gen.vectorize()"
   ]
  },
  {
   "cell_type": "code",
   "execution_count": null,
   "id": "260bcaec-2d3e-4b27-8c01-4ca25fb44b16",
   "metadata": {},
   "outputs": [],
   "source": [
    "model = Model(MODEL_PATH, (1, 11))"
   ]
  },
  {
   "cell_type": "markdown",
   "id": "6fddca2e-4a69-4b02-a4e6-5f8eaa3dce3a",
   "metadata": {},
   "source": [
    "Run model on personal vectors"
   ]
  },
  {
   "cell_type": "code",
   "execution_count": null,
   "id": "4753f70b-e13e-483f-b97d-469b97c49115",
   "metadata": {},
   "outputs": [],
   "source": [
    "out = model.predict(np.asarray(data).astype('float32').reshape((len, 11)))"
   ]
  },
  {
   "cell_type": "code",
   "execution_count": null,
   "id": "69710106-35ea-4750-b2b8-118e8ec065b1",
   "metadata": {},
   "outputs": [],
   "source": [
    "out"
   ]
  }
 ],
 "metadata": {
  "kernelspec": {
   "display_name": "tf",
   "language": "python",
   "name": "tf"
  },
  "language_info": {
   "codemirror_mode": {
    "name": "ipython",
    "version": 3
   },
   "file_extension": ".py",
   "mimetype": "text/x-python",
   "name": "python",
   "nbconvert_exporter": "python",
   "pygments_lexer": "ipython3",
   "version": "3.9.19"
  }
 },
 "nbformat": 4,
 "nbformat_minor": 5
}
