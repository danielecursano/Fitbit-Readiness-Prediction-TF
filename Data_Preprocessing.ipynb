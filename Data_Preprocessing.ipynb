{
 "cells": [
  {
   "cell_type": "markdown",
   "id": "a83e795b-79cd-48f8-beb1-62b83bfa904e",
   "metadata": {},
   "source": [
    "# Data Preprocessing for Machine Learning Model\n",
    "\n",
    "## Introduction\n",
    "This Jupyter notebook describes the process of preprocessing raw data to generate feature vectors suitable for fitting a machine learning model. The dataset comprises vectors of size (11,) containing various biometric parameters such as heart rate variability, oxygen saturation, etc. These parameters play a crucial role in predicting the readiness value.\n",
    "\n",
    "## Data Filtering and Transformation\n",
    "The raw data is collected from a Fitbit smartwatch through various CSV files.\n",
    "\n",
    "- **Step 1:** Load the CSV files into pandas dataframes.\n",
    "- **Step 2:** Adjust the values, such as converting dates and selecting only relevant categories of data.\n",
    "- **Step 3:** Merge the dataframes by date to create a consolidated dataframe.\n",
    "\n",
    "## Data Vectorization\n",
    "After extracting features, they are combined into feature vectors. These vectors, along with the corresponding readiness values, serve as input and output, respectively, for the machine learning model.\n",
    "\n",
    "## Conclusion\n",
    "By the conclusion of this notebook, we will have transformed the raw data into a structured format suitable for training our machine learning model.\n"
   ]
  },
  {
   "cell_type": "code",
   "execution_count": 34,
   "id": "a4d8cdcc-c446-4648-b6bd-fbec7a718e6a",
   "metadata": {},
   "outputs": [],
   "source": [
    "import pandas as pd\n",
    "import numpy as np\n",
    "import os"
   ]
  },
  {
   "cell_type": "code",
   "execution_count": 36,
   "id": "8589434e-2123-42cd-9940-e025b361d25a",
   "metadata": {},
   "outputs": [],
   "source": [
    "PATH = \"Fitbit\"  # The main path of the folder containing every CSV"
   ]
  },
  {
   "cell_type": "markdown",
   "id": "759c27e4-b30b-427d-82b5-8d074d823cb9",
   "metadata": {},
   "source": [
    "#### In the following cells we collect data about physical activity levels throughout the day, heart rate variability, oxygen saturation, sleep score, stress score and daily readiness."
   ]
  },
  {
   "cell_type": "code",
   "execution_count": 23,
   "id": "0009c752-59d6-4667-a351-fb8eff471445",
   "metadata": {},
   "outputs": [],
   "source": [
    "def vectorize_azm(file):\n",
    "    df = pd.read_csv(file)\n",
    "    df['date'] = pd.to_datetime(df['date_time'])\n",
    "    df.drop(columns=['date_time'], inplace=True)\n",
    "    df['date'] = df['date'].dt.strftime('%Y-%m-%d')\n",
    "    return df.groupby(\"date\")[\"total_minutes\"].sum().to_frame()"
   ]
  },
  {
   "cell_type": "code",
   "execution_count": 24,
   "id": "cb56e413-a645-4ca8-a1a1-2a626eeda53c",
   "metadata": {},
   "outputs": [],
   "source": [
    "dir = f\"{PATH}/Active Zone Minutes (AZM)/\"\n",
    "azm_data = None\n",
    "files = os.listdir(dir)\n",
    "for file in files:\n",
    "    tmp = vectorize_azm(f\"{dir}{file}\")\n",
    "    if azm_data is None:\n",
    "        azm_data = tmp\n",
    "    else:\n",
    "        azm_data = pd.concat([azm_data, tmp])\n",
    "azm_data.reset_index(inplace=True)"
   ]
  },
  {
   "cell_type": "code",
   "execution_count": 25,
   "id": "8b5d725f-4ef4-4c86-8e19-b5de94fff770",
   "metadata": {},
   "outputs": [],
   "source": [
    "dir = f\"{PATH}/Heart Rate Variability/\"\n",
    "files = os.listdir(dir)\n",
    "hrv_data = None\n",
    "for file in files:\n",
    "    if file.startswith(\"Daily Heart Rate Variability Summary\") and file[len(file)-3:] == \"csv\":\n",
    "        df = pd.read_csv(f\"{dir}{file}\")\n",
    "        df[\"timestamp\"] = pd.to_datetime(df[\"timestamp\"]).dt.strftime('%Y-%m-%d')\n",
    "        if hrv_data is None:\n",
    "            hrv_data = df\n",
    "        else:\n",
    "            hrv_data = pd.concat([hrv_data, df])"
   ]
  },
  {
   "cell_type": "code",
   "execution_count": 26,
   "id": "785cb92e-3945-4706-b051-dc54f4fba8f4",
   "metadata": {},
   "outputs": [],
   "source": [
    "dir = f\"{PATH}/Oxygen Saturation (SpO2)/\"\n",
    "files = os.listdir(dir)\n",
    "os_data = None\n",
    "for file in files:\n",
    "    if file.startswith(\"Daily SpO2 - \"):\n",
    "        df = pd.read_csv(f\"{dir}{file}\")\n",
    "        df['timestamp'] = pd.to_datetime(df['timestamp']).dt.strftime('%Y-%m-%d')\n",
    "        df.drop([\"lower_bound\", \"upper_bound\"], axis=1, inplace=True)\n",
    "        if os_data is None:\n",
    "            os_data = df\n",
    "        else:\n",
    "            os_data = pd.concat([os_data, df])"
   ]
  },
  {
   "cell_type": "code",
   "execution_count": 8,
   "id": "8fb36cbc-5b54-41d7-90c3-307628b88c86",
   "metadata": {},
   "outputs": [],
   "source": [
    "dir = f\"{PATH}/Sleep Score/sleep_score.csv\"\n",
    "df = pd.read_csv(dir)\n",
    "df[\"timestamp\"] = pd.to_datetime(df[\"timestamp\"]).dt.strftime(\"%Y-%m-%d\")\n",
    "df.drop([\"composition_score\", \"duration_score\", \"sleep_log_entry_id\"], axis=1, inplace=True)\n",
    "sleep_data = df"
   ]
  },
  {
   "cell_type": "code",
   "execution_count": 9,
   "id": "18dda2ce-75f9-4581-ac26-37b5814130c2",
   "metadata": {},
   "outputs": [],
   "source": [
    "dir = f\"{PATH}/Stress Score/Stress Score.csv\"\n",
    "df = pd.read_csv(dir)\n",
    "df = df[~df['CALCULATION_FAILED']]\n",
    "df = df[[\"DATE\", \"STRESS_SCORE\"]]\n",
    "df['DATE'] = pd.to_datetime(df['DATE']).dt.strftime('%Y-%m-%d')\n",
    "stress_data = df"
   ]
  },
  {
   "cell_type": "code",
   "execution_count": 11,
   "id": "6eef13b5-063c-4715-a757-130862cd708a",
   "metadata": {},
   "outputs": [],
   "source": [
    "dir = f\"{PATH}/Daily Readiness/\"\n",
    "files = os.listdir(dir)\n",
    "df = None\n",
    "for file in files:\n",
    "    if file.startswith(\"Daily Readiness Score -\"):\n",
    "        tmp = pd.read_csv(f\"{dir}{file}\")\n",
    "        tmp = tmp[[\"date\", \"readiness_score_value\"]]\n",
    "        if df is None:\n",
    "            df = tmp\n",
    "        else:\n",
    "            df = pd.concat([df, tmp])"
   ]
  },
  {
   "cell_type": "code",
   "execution_count": 10,
   "id": "890409f9-ce36-48fd-bc8a-980e7b65bbd0",
   "metadata": {},
   "outputs": [],
   "source": [
    "tmp_data = [azm_data, hrv_data, os_data, sleep_data, stress_data]\n",
    "new_names = {\"timestamp\": \"date\", \"DATE\": \"date\"}\n",
    "for i in tmp_data:\n",
    "    i.rename(columns=new_names, inplace=True)"
   ]
  },
  {
   "cell_type": "code",
   "execution_count": 12,
   "id": "90fe65ec-985f-49df-8c1c-2295a08de89d",
   "metadata": {},
   "outputs": [],
   "source": [
    "import functools as ft\n",
    "df_final = ft.reduce(lambda left, right: pd.merge(left, right, on='date'), tmp_data)"
   ]
  },
  {
   "cell_type": "code",
   "execution_count": 13,
   "id": "9ded2ba2-ea4a-4768-98c4-617c756cea16",
   "metadata": {},
   "outputs": [],
   "source": [
    "from datetime import datetime, timedelta"
   ]
  },
  {
   "cell_type": "code",
   "execution_count": 14,
   "id": "2c5e0fec-41cd-4752-8bb0-802b4ae26b8a",
   "metadata": {},
   "outputs": [],
   "source": [
    "data = df_final.values\n",
    "for i in range(len(data)):\n",
    "    data[i][0]= datetime.strptime(data[i][0], '%Y-%m-%d')"
   ]
  },
  {
   "cell_type": "code",
   "execution_count": 15,
   "id": "d555f99e-910f-40b4-8628-d2cc413d27f9",
   "metadata": {},
   "outputs": [],
   "source": [
    "output = df.values\n",
    "for i in range(len(output)):\n",
    "    output[i][0] = datetime.strptime(output[i][0], '%Y-%m-%d')"
   ]
  },
  {
   "cell_type": "code",
   "execution_count": 16,
   "id": "dfc02fc2-2b0d-456f-91cc-ebcfe6afed39",
   "metadata": {},
   "outputs": [],
   "source": [
    "sorted_data = data[data[:,0].argsort()]\n",
    "sorted_output = output[output[:, 0].argsort()]"
   ]
  },
  {
   "cell_type": "code",
   "execution_count": 17,
   "id": "c7c102c6-bb53-4956-a47e-88e46766283c",
   "metadata": {},
   "outputs": [],
   "source": [
    "vectors = []\n",
    "for i in sorted_data:\n",
    "    target = i[0] + timedelta(days=1)\n",
    "    for j in range(len(sorted_output)):\n",
    "        if target == sorted_output[j][0]:\n",
    "            vectors.append(np.concatenate([i[1:], sorted_output[j][1:]]))\n",
    "            break"
   ]
  },
  {
   "cell_type": "code",
   "execution_count": 33,
   "id": "168f97b4-e4ac-4ef5-95e0-fca927e8083a",
   "metadata": {},
   "outputs": [
    {
     "name": "stdout",
     "output_type": "stream",
     "text": [
      "Data available: 419\n",
      "Output registered: 183\n",
      "Final vectors: 155\n"
     ]
    }
   ],
   "source": [
    "print(f\"Data available: {len(sorted_data)}\\nOutput registered: {len(sorted_output)}\\nFinal vectors: {len(vectors)}\")"
   ]
  },
  {
   "cell_type": "code",
   "execution_count": 19,
   "id": "588592a2-6be0-4960-9ab5-beed4ce685b8",
   "metadata": {},
   "outputs": [],
   "source": [
    "np.savetxt(\"data.csv\", vectors, delimiter=\",\")"
   ]
  },
  {
   "cell_type": "markdown",
   "id": "47a56303-09b9-4da5-adef-32dab5657a98",
   "metadata": {},
   "source": [
    "**Example:** \n",
    "\n",
    "Here is an example of a vector with shape (12, ) where the first 11 parameters are provided to the model, and the last parameter is the value to be predicted."
   ]
  },
  {
   "cell_type": "code",
   "execution_count": 35,
   "id": "1ea28dc5-8e76-4323-973b-66e339a46434",
   "metadata": {},
   "outputs": [
    {
     "data": {
      "text/plain": [
       "array([3, 86.819, 48.853, 3.314, 95.9, 77, 21, 82, 53, 0.0976116303219107,\n",
       "       72, 100.0], dtype=object)"
      ]
     },
     "execution_count": 35,
     "metadata": {},
     "output_type": "execute_result"
    }
   ],
   "source": [
    "vectors[-1]"
   ]
  }
 ],
 "metadata": {
  "kernelspec": {
   "display_name": "Python 3 (ipykernel)",
   "language": "python",
   "name": "python3"
  },
  "language_info": {
   "codemirror_mode": {
    "name": "ipython",
    "version": 3
   },
   "file_extension": ".py",
   "mimetype": "text/x-python",
   "name": "python",
   "nbconvert_exporter": "python",
   "pygments_lexer": "ipython3",
   "version": "3.9.4"
  }
 },
 "nbformat": 4,
 "nbformat_minor": 5
}
